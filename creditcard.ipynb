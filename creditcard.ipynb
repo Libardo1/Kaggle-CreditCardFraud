{
 "cells": [
  {
   "cell_type": "markdown",
   "metadata": {
    "_cell_guid": "7677b300-c13f-46c1-98fb-82ddb5a0d505",
    "_execution_state": "idle",
    "_uuid": "b7e98c5b8d403b477d388fdc219c6ce3ef1e6af6"
   },
   "source": [
    "*Ensemble Modeling with Skewed Datasets*\n",
    "==================================\n",
    "\n",
    "Here's a quick tutorial about how to use ensemble techniques with undersampling to get good results on an imbalanced data set. I'm going to stick with a very basic model (Adaboost with 100 Decision Tree Stumps) and just work on improving the model by changing the amount of training data I feed the model. The point of this kernel isn't to adjust the hyperparameters to find the best model, it's just to demonstrate how powerful ensembling can be on a skewed dataset.\n",
    "\n",
    "_________________________\n",
    "We'll look at three cases:\n",
    "1. Adaboost model with no undersampling.\n",
    "2. Adaboost model with undersampling.\n",
    "3. Ensembled model with undersampling."
   ]
  },
  {
   "cell_type": "code",
   "execution_count": 13,
   "metadata": {
    "_cell_guid": "6d3cf98d-b138-4904-ad89-129b57307115",
    "_execution_state": "idle",
    "_uuid": "a672e82a0d1b27cda90dafad1bfa261b90b26f51"
   },
   "outputs": [],
   "source": [
    "import numpy as np\n",
    "import pandas as pd\n",
    "import matplotlib.pyplot as plt\n",
    "import itertools\n",
    "%matplotlib inline\n",
    "\n",
    "from sklearn.metrics import confusion_matrix\n",
    "from sklearn.model_selection import train_test_split\n",
    "from sklearn.tree import DecisionTreeClassifier\n",
    "from sklearn.ensemble import AdaBoostClassifier\n",
    "from sklearn.calibration import calibration_curve"
   ]
  },
  {
   "cell_type": "code",
   "execution_count": 8,
   "metadata": {
    "_cell_guid": "3aee8e7a-aeff-4178-af9b-651969e688a1",
    "_execution_state": "idle",
    "_uuid": "74ac56d6e55be9481158a436f5c75cc115be39e1"
   },
   "outputs": [],
   "source": [
    "def load_fraud_data(filename):\n",
    "    df_data = pd.read_csv(filename)\n",
    "    return df_data\n",
    "\n",
    "df_data = load_fraud_data('/mnt/c/Users/Mangarella/Dropbox/Kaggle/creditcard.csv')"
   ]
  },
  {
   "cell_type": "markdown",
   "metadata": {
    "_cell_guid": "cb8f46e6-2bb6-482a-8467-3ef9ba49e415",
    "_execution_state": "idle",
    "_uuid": "a2f4994f90921c18e8c63adb5d9dde9620176567"
   },
   "source": [
    "So let's start with the normal setup of our X and y data. Don't worry about the 'Class' column being kept in X_data, I'll pass through the slice X_data[ls_features] when I fit my classifier later on. We'll also add a confusion matrix plotting function to visualize our model performance. "
   ]
  },
  {
   "cell_type": "code",
   "execution_count": 23,
   "metadata": {
    "_cell_guid": "6f6a2127-47bc-43b0-8394-7ebd323063aa",
    "_execution_state": "busy",
    "_uuid": "3f79c42de84d3f367b5a4c7f054c1281c6ce8e5e",
    "collapsed": true
   },
   "outputs": [],
   "source": [
    "def plot_confusion_matrix(cm, classes,\n",
    "                          normalize=False,\n",
    "                          title='Confusion matrix',\n",
    "                          cmap=plt.cm.Blues):\n",
    "    \"\"\"\n",
    "    This function prints and plots the confusion matrix.\n",
    "    Normalization can be applied by setting `normalize=True`.\n",
    "    \"\"\"\n",
    "    if normalize:\n",
    "        cm = cm.astype('float') / cm.sum(axis=1)[:, np.newaxis]\n",
    "        print(\"Normalized confusion matrix\")\n",
    "    else:\n",
    "        print('Confusion matrix, without normalization')\n",
    "\n",
    "    plt.imshow(cm, interpolation='nearest', cmap=cmap)\n",
    "    plt.title(title)\n",
    "    plt.colorbar()\n",
    "    tick_marks = np.arange(len(classes))\n",
    "    plt.xticks(tick_marks, classes, rotation=45)\n",
    "    plt.yticks(tick_marks, classes)\n",
    "\n",
    "    fmt = '.2f' if normalize else 'd'\n",
    "    thresh = cm.max() / 2.\n",
    "    for i, j in itertools.product(range(cm.shape[0]), range(cm.shape[1])):\n",
    "        plt.text(j, i, format(cm[i, j], fmt),\n",
    "                 horizontalalignment=\"center\",\n",
    "                 color=\"white\" if cm[i, j] > thresh else \"black\")\n",
    "\n",
    "    plt.tight_layout()\n",
    "    plt.ylabel('True label')\n",
    "    plt.xlabel('Predicted label')\n",
    "\n",
    "    \n",
    "def classification_setup(df_data):\n",
    "    '''Returns X_data, y_data, ls_features'''\n",
    "    X_data, y_data = df_data, df_data['Class']\n",
    "    ls_features = list(X_data.keys())\n",
    "    class_index = ls_features.index('Class')\n",
    "    ls_features.pop(class_index)\n",
    "    return X_data, y_data, ls_features\n",
    "\n",
    "X_data, y_data, ls_features = classification_setup(df_data)"
   ]
  },
  {
   "cell_type": "markdown",
   "metadata": {
    "_cell_guid": "f8f6f598-c73c-4b31-bf45-598f2bff5a83",
    "_execution_state": "idle",
    "_uuid": "d758c777da0068d8cebc4561d59a8700345bbcc7"
   },
   "source": [
    "**1. Adaboost model with no undersampling.**\n",
    "---------\n",
    "Now we're ready to try our first approach."
   ]
  },
  {
   "cell_type": "code",
   "execution_count": 24,
   "metadata": {
    "_cell_guid": "0c3e78be-ec21-4eb4-8f68-d24924e19387",
    "_execution_state": "idle",
    "_uuid": "a4cafe698da6736439b799c091efd1eea83c7fb2"
   },
   "outputs": [
    {
     "name": "stdout",
     "output_type": "stream",
     "text": [
      "Confusion matrix, without normalization\n"
     ]
    },
    {
     "data": {
      "image/png": "[encoded data removed]",
      "text/plain": [
       "<matplotlib.figure.Figure at 0x7f99796ffb70>"
      ]
     },
     "metadata": {},
     "output_type": "display_data"
    }
   ],
   "source": [
    "def adaboost_no_undersample(X_data, y_data):\n",
    "    X_train, X_test, y_train, y_test = train_test_split(X_data, y_data)\n",
    "    dt_clf = DecisionTreeClassifier(max_depth = 1)\n",
    "    ada_real = AdaBoostClassifier(base_estimator = dt_clf, \n",
    "                                  learning_rate = 0.1, \n",
    "                                  n_estimators = 100)\n",
    "    ada_real.fit(X_train[ls_features], y_train)\n",
    "    y_pred = ada_real.predict(X_test[ls_features])\n",
    "    test_conf = confusion_matrix(y_test, y_pred)\n",
    "    plot_confusion_matrix(test_conf, classes = ['Not Fraud', 'Fraud'])\n",
    "\n",
    "adaboost_no_undersample(X_data, y_data)"
   ]
  },
  {
   "cell_type": "markdown",
   "metadata": {
    "_cell_guid": "8dc90801-a0a0-4f5b-b9f5-196e1a1f7735",
    "_execution_state": "idle",
    "_uuid": "b3c45318643a4e88e4e94c73ee73363449645b93"
   },
   "source": [
    "Not the worst, but it doesn't look too great. Though technically the \"accuracy\" of the model is >99%. There's a high amount of false negatives (bottom left), which are the most crucial mistakes for a fraud problem. The only plus is the model seems to have very little false positives (this trend won't continue.)"
   ]
  },
  {
   "cell_type": "markdown",
   "metadata": {
    "_cell_guid": "c826c5fd-f010-44c4-b1a1-0f3818d02bb7",
    "_execution_state": "idle",
    "_uuid": "7746cb3aa128a3a4206683af7f3500dec78e15e1"
   },
   "source": [
    "**2. Adaboost model with undersampling.**\n",
    "---------\n",
    "So let's try undersampling. We'll drastically reduce the size of the train and test set so that the proportions of fraud and non-fraud cases are equal. We'll also create 10 folds, to eyeball if there's any significant variance in our model on this limited data."
   ]
  },
  {
   "cell_type": "code",
   "execution_count": 25,
   "metadata": {
    "_cell_guid": "45719872-ce72-4f06-8fb6-640b9fb1880d",
    "_execution_state": "idle",
    "_uuid": "49c1e70ce1275fa4735cb48d19b0a1c90be7dbbb",
    "collapsed": true
   },
   "outputs": [],
   "source": [
    "def under_sample_kfold(X_data, y_data, n_folds = 10):\n",
    "    '''Returns list of 10 (default) folds of\n",
    "    X_train, X_test, y_train, y_test data'''\n",
    "    \n",
    "    pos_events = X_data[X_data['Class'] == 1]\n",
    "    neg_events = X_data[X_data['Class'] == 0]\n",
    "    \n",
    "    #Randomize and pick same n number of events\n",
    "    number_pos_events = len(pos_events)  \n",
    "    undersampled_folds = []\n",
    "\n",
    "    for fold in range(0, n_folds):\n",
    "        pos_events = pos_events.reindex(np.random.permutation(pos_events.index))\n",
    "        neg_events = neg_events.reindex(np.random.permutation(neg_events.index))\n",
    "        undersampled_events = pd.concat([neg_events.head(number_pos_events), pos_events])\n",
    "        X_data_u, y_data_u = undersampled_events, undersampled_events['Class']\n",
    "        X_train_u, X_test_u, y_train_u, y_test_u = train_test_split(X_data_u, y_data_u, test_size=0.3)\n",
    "        undersampled_folds.append([X_train_u, X_test_u, y_train_u, y_test_u])\n",
    "    return undersampled_folds\n",
    "\n",
    "\n",
    "folds = under_sample_kfold(X_data, y_data)"
   ]
  },
  {
   "cell_type": "markdown",
   "metadata": {
    "_cell_guid": "e67d9a9d-e58e-468a-a589-75d8a96dbff4",
    "_execution_state": "idle",
    "_uuid": "900ba26cdb39fcf878b2442f1ddb52bbed59fa76"
   },
   "source": [
    "The following function can be run with the test set derived from the \"balanced\" undersampled test set, or from a test set that includes all of the data minus the train data to more accurately the actual class proportions of the data."
   ]
  },
  {
   "cell_type": "code",
   "execution_count": 26,
   "metadata": {
    "_cell_guid": "066ccd28-03f7-4c73-8fe7-821e3c5fe665",
    "_execution_state": "idle",
    "_uuid": "1bc99458ca62bd7993a9365a103897dee9e864bc",
    "collapsed": true
   },
   "outputs": [],
   "source": [
    "def adaboost_undersample(folds, full_test_set = False):\n",
    "    \n",
    "    for fold in folds:\n",
    "        X_train, X_test, y_train, y_test = fold[0], fold[1], fold[2], fold[3]\n",
    "    \n",
    "        dt_clf = DecisionTreeClassifier(max_depth = 1)\n",
    "        ada_real = AdaBoostClassifier(base_estimator = dt_clf, \n",
    "                                      learning_rate = 0.1, \n",
    "                                      n_estimators = 100)\n",
    "        ada_real.fit(X_train[ls_features], y_train)\n",
    "\n",
    "        if full_test_set == False:\n",
    "            y_pred = ada_real.predict(X_test[ls_features])\n",
    "            test_conf = confusion_matrix(y_test, y_pred)\n",
    "            plot_confusion_matrix(test_conf, classes = ['Not Fraud', 'Fraud'])\n",
    "    \n",
    "        else:\n",
    "            X_train_and_test = pd.concat([X_train, X_data])\n",
    "            X_test_full = (X_train_and_test.reset_index()\n",
    "                                           .drop_duplicates(subset= 'index', keep= False)\n",
    "                                           .set_index('index'))\n",
    "            y_test_full = X_test_full['Class']\n",
    "        \n",
    "            #Eval\n",
    "            y_pred = ada_real.predict(X_test_full[ls_features])\n",
    "            test_conf = confusion_matrix(y_test_full, y_pred)\n",
    "            plot_confusion_matrix(test_conf, classes = ['Not Fraud', 'Fraud'])"
   ]
  },
  {
   "cell_type": "markdown",
   "metadata": {
    "_cell_guid": "56dc5405-f228-436a-bc72-c6f75da64a0c",
    "_execution_state": "idle",
    "_uuid": "2f430bf7dd80f4477071b188e97cf4640754f77b"
   },
   "source": [
    "2a. Undersampling with undersampled test set.\n",
    "----------------------------------------------------------\n",
    "Let's run this first with just the undersampled test set."
   ]
  },
  {
   "cell_type": "code",
   "execution_count": 29,
   "metadata": {
    "_cell_guid": "89a1fb5d-b7e8-403f-8684-f9a8ea844a40",
    "_execution_state": "idle",
    "_uuid": "da22d4dd0bb2621064f5c78c97df7f62dec7d38b"
   },
   "outputs": [
    {
     "name": "stdout",
     "output_type": "stream",
     "text": [
      "Confusion matrix, without normalization\n"
     ]
    },
    {
     "data": {
      "image/png": "[encoded data removed]",
      "text/plain": [
       "<matplotlib.figure.Figure at 0x7f9979784e80>"
      ]
     },
     "metadata": {},
     "output_type": "display_data"
    }
   ],
   "source": [
    "#This is only one fold for brevity, but feel free to modify the code to see there's minimal variation\n",
    "#between folds.\n",
    "adaboost_undersample([folds[0]])"
   ]
  },
  {
   "cell_type": "markdown",
   "metadata": {
    "_cell_guid": "91c3723d-a521-43fa-ac9b-0db755ddd627",
    "_execution_state": "idle",
    "_uuid": "fd38f03605ec6a27ade27398f8cb2a9056b44811"
   },
   "source": [
    "These initially look really good! But remember our test sets are 50/50 Fraud/Normal Transactions. A quick glance looks like our Class 1 (Fraud) accuracy went from ~66% to ~85% on our test set with very small False Positive Rate. However, this is a much different test set from what we will be encountering. Which brings us to...."
   ]
  },
  {
   "cell_type": "markdown",
   "metadata": {
    "_cell_guid": "7052ad74-3682-4514-a33c-ad9670b77f43",
    "_execution_state": "idle",
    "_uuid": "709c9348336611a5e327ad3194845846d6f41d33"
   },
   "source": [
    "2b. Undersampling with full test set.\n",
    "----------------------------------------------------------\n",
    "Let's run this now with a real test set, which thankfully has a much smaller fraud rate (~0.17%) than our balanced undersampled data."
   ]
  },
  {
   "cell_type": "code",
   "execution_count": 30,
   "metadata": {
    "_cell_guid": "b063ce4b-2a96-42fc-bdaa-53048023b0a6",
    "_execution_state": "idle",
    "_uuid": "02e28d9fe094c2bcb12691a8e6fe518af6470d9f"
   },
   "outputs": [
    {
     "name": "stdout",
     "output_type": "stream",
     "text": [
      "Confusion matrix, without normalization\n"
     ]
    },
    {
     "data": {
      "image/png": "[encoded data removed]",
      "text/plain": [
       "<matplotlib.figure.Figure at 0x7f9975eda898>"
      ]
     },
     "metadata": {},
     "output_type": "display_data"
    }
   ],
   "source": [
    "adaboost_undersample([folds[0]], full_test_set = True)"
   ]
  },
  {
   "cell_type": "markdown",
   "metadata": {
    "_cell_guid": "4a7f1dbd-eb8a-4c79-9864-ffc03601f3cd",
    "_execution_state": "idle",
    "_uuid": "2a255c664fc8559adda35b320fb5dfe98ec51afa"
   },
   "source": [
    "So what we see above is testing each fold's model on every data point that isn't included in the train set gives drastically different results. Now we have a problem where there's thousands of false positive flags. What's happening is adaboost is coming up with a great decision boundary for that area of the feature space. But we have a pretty vast 30 dimensional feature space to predict on.\n",
    "\n",
    "Let's try to lower that using..."
   ]
  },
  {
   "cell_type": "markdown",
   "metadata": {
    "_cell_guid": "2087b500-adf1-482b-a436-a3f540579d11",
    "_execution_state": "idle",
    "_uuid": "bbf72cc2064309c030e4d5d42ddf424ce9042283"
   },
   "source": [
    "3. Ensembled model with undersampling.\n",
    "----------------------------------------------------\n",
    "First before we start making an ensemble, we need to create a CV set. If we ensembled all of our models currently, we would have no Class 1 instances left (all of them are used once or likely multiple times in the 10 training sets). "
   ]
  },
  {
   "cell_type": "code",
   "execution_count": 31,
   "metadata": {
    "_cell_guid": "9130c44b-e2a2-4c7c-b1d3-2d093a7f3c96",
    "_execution_state": "idle",
    "_uuid": "ab533e2010014caf12cd6267e3735b7f1e2a1e17",
    "collapsed": true
   },
   "outputs": [],
   "source": [
    "def cv_setup(X_data, y_data):\n",
    "    '''Returns X_data, y_data, X_cv, y_cv, ls_features\n",
    "    X_cv, y_cv are randomized 10% of data with same class\n",
    "    proportions'''\n",
    "    \n",
    "    \n",
    "    pos_events = X_data[X_data['Class'] == 1]\n",
    "    neg_events = X_data[X_data['Class'] == 0]\n",
    "    number_pos_events, number_neg_events, number_events = (len(pos_events), \n",
    "                                                           len(neg_events),\n",
    "                                                           len(X_data))\n",
    "    pos_events = pos_events.reindex(np.random.permutation(pos_events.index))\n",
    "    neg_events = neg_events.reindex(np.random.permutation(neg_events.index))\n",
    "    X_cv = pd.concat([neg_events.tail(number_neg_events//10), \n",
    "                      pos_events.tail(number_pos_events//10)])\n",
    "    y_cv = X_cv['Class']\n",
    "\n",
    "    #Get rid of duplicates between CV and Test/Train bank of data\n",
    "    X_data = pd.concat([X_cv, X_data])\n",
    "    X_data = (X_data.reset_index()\n",
    "                    .drop_duplicates(subset= 'index', keep= False)\n",
    "                    .set_index('index'))\n",
    "    y_data = X_data['Class']\n",
    "    \n",
    "    return X_data, y_data, X_cv, y_cv, ls_features"
   ]
  },
  {
   "cell_type": "code",
   "execution_count": 32,
   "metadata": {
    "_cell_guid": "95dc6daa-d250-4d3b-85f8-9aa75e3c110f",
    "_execution_state": "idle",
    "_uuid": "521a062da27ba34c4662f0505b20354fb51fb6e0",
    "collapsed": true
   },
   "outputs": [],
   "source": [
    "#Remake our folds without including 10% of the data for a CV set\n",
    "X_data, y_data, X_cv, y_cv, ls_features = cv_setup(X_data, y_data)\n",
    "folds = under_sample_kfold(X_data, y_data)"
   ]
  },
  {
   "cell_type": "markdown",
   "metadata": {
    "_cell_guid": "5e083e1a-656d-487f-a198-f24c19f971b7",
    "_execution_state": "idle",
    "_uuid": "e7220d716cf3d13fd24bff5af24e248e668298e0"
   },
   "source": [
    "So let's see the results of an ensemble of 10 models (one derived from each fold of the data) tested on just the CV set."
   ]
  },
  {
   "cell_type": "code",
   "execution_count": 36,
   "metadata": {
    "_cell_guid": "208043d7-7994-4cb4-87b2-fd3680176045",
    "_execution_state": "idle",
    "_uuid": "9b50e1da6d453c37e1d540830c136f2f58362af7"
   },
   "outputs": [
    {
     "name": "stdout",
     "output_type": "stream",
     "text": [
      "Confusion matrix, without normalization\n"
     ]
    },
    {
     "data": {
      "image/png": "[encoded data removed]",
      "text/plain": [
       "<matplotlib.figure.Figure at 0x7f997640c940>"
      ]
     },
     "metadata": {},
     "output_type": "display_data"
    }
   ],
   "source": [
    "def adaboost_undersample_ensemble(folds):\n",
    "    \n",
    "    X_train_all_folds = pd.DataFrame()\n",
    "    ada_ensemble = []\n",
    "    \n",
    "    for fold in folds:\n",
    "        X_train, X_test, y_train, y_test = fold[0], fold[1], fold[2], fold[3]\n",
    "    \n",
    "        dt_clf = DecisionTreeClassifier(max_depth = 1)\n",
    "        ada_real = AdaBoostClassifier(base_estimator = dt_clf, \n",
    "                                      learning_rate = 0.1, \n",
    "                                      n_estimators = 100)\n",
    "        ada_real.fit(X_train[ls_features], y_train)\n",
    "        #Concatenate all train sets and store each fold models\n",
    "        X_train_all_folds = pd.concat([X_train_all_folds, X_train])\n",
    "        ada_ensemble.append(ada_real)\n",
    "    \n",
    "    #Call scorer\n",
    "    ensemble_score(X_cv, y_cv, ada_ensemble)\n",
    "\n",
    "def ensemble_score(X_test, y_test, models, cutoff = 0.5, e_cutoff = 5):\n",
    "    '''Prints confusion matrix for an ensemble of models based on \n",
    "    probability cutoff (cutoff) of each model and voting cutoff \n",
    "    (e_cutoff) for an ensemble vote. Default is >50% probability\n",
    "    and > 5 votes out of 10'''\n",
    "    \n",
    "    for fold in range(0, len(models)):\n",
    "        X_test.loc[:, ('Prob fold ' + str(fold))] = models[fold].predict_proba(X_test[ls_features])[:,1]\n",
    "        X_test.loc[:, ('ADAPred fold ' + str(fold))] = (X_test[('Prob fold ' + str(fold))] >= cutoff).astype(int)\n",
    "    \n",
    "    X_test.loc[:, 'Ensemble Score'] = X_test[['ADAPred fold ' + str(i) for i in range(0, len(models))]].sum(axis = 1)\n",
    "    X_test.loc[:, 'Ensemble Pred'] = (X_test['Ensemble Score'] > e_cutoff).astype(int)\n",
    "\n",
    "    ensemble_conf = confusion_matrix(y_test, X_test[('Ensemble Pred')])\n",
    "    plot_confusion_matrix(ensemble_conf, classes = ['Not Fraud', 'Fraud'])\n",
    "\n",
    "adaboost_undersample_ensemble(folds)"
   ]
  },
  {
   "cell_type": "markdown",
   "metadata": {
    "_cell_guid": "fbeddd30-1530-4b7a-98a4-f450b5e09cc8",
    "_execution_state": "idle",
    "_uuid": "f7c24dd4f396e6a981b16e901ccfeb8aa85cfef4"
   },
   "source": [
    "Everything looks pretty good! The amount of false positives has dropped significantly, and we haven't sacrificed the sensitivity (true positive rate) of our model at all. "
   ]
  },
  {
   "cell_type": "markdown",
   "metadata": {
    "_cell_guid": "13b64fc4-38bf-4fbb-9d6c-3c94c5148129",
    "_execution_state": "idle",
    "_uuid": "b41d9008e0224a457a01183a0be371855c5d9037"
   },
   "source": [
    "Ensemble Validation\n",
    "================\n",
    "Let's try some ensemble validation before we go with this ensemble technique.\n",
    "\n",
    "Validation on our ensemble technique is a bit tricky - we can change our ensemble parameters (probability cutoff, ensemble vote cutoff) but we can potentially overfit this technique to our CV set. To avoid this, we should reshuffle the data, redraw our CV set, retrain our kfold models, and retry our ensemble technique on the CV set."
   ]
  },
  {
   "cell_type": "code",
   "execution_count": 37,
   "metadata": {
    "_cell_guid": "60d8166b-52f0-46c5-9484-fc11f9b4103f",
    "_execution_state": "idle",
    "_uuid": "c30c92c904ea6a190721bfd14e7af8780beda45b"
   },
   "outputs": [
    {
     "name": "stdout",
     "output_type": "stream",
     "text": [
      "Confusion matrix, without normalization\n"
     ]
    },
    {
     "data": {
      "image/png": "[encoded data removed]",
      "text/plain": [
       "<matplotlib.figure.Figure at 0x7f99762f2fd0>"
      ]
     },
     "metadata": {},
     "output_type": "display_data"
    }
   ],
   "source": [
    "X_data, y_data, ls_features = classification_setup(df_data)\n",
    "X_data, y_data, X_cv, y_cv, ls_features = cv_setup(X_data, y_data)\n",
    "folds = under_sample_kfold(X_data, y_data)\n",
    "adaboost_undersample_ensemble(folds)"
   ]
  },
  {
   "cell_type": "markdown",
   "metadata": {
    "_cell_guid": "78a4afc3-9f6d-4bf4-ae47-df17897f305c",
    "_execution_state": "idle",
    "_uuid": "f810b015528b478a00c79f8e152fbbd40e2ee442"
   },
   "source": [
    "Similar results! Again, this was meant to be an introduction to ensemble learning, a powerful technique for skewed data sets. Some key things to keep in mind:\n",
    "\n",
    "1. When undersampling to train a model, make sure to validate it with a real test set, not an \"undersampled\" test set.\n",
    "2. When developing an ensemble technique, use a CV set. It's very likely you'll run out of the minority class when you use slices of the data to create several unique models, even if the data for each model is chosen at random.\n",
    "3. Be sure to validate your ensemble technique by reshuffling your data and redrawing a new CV set.\n",
    "\n"
   ]
  }
 ],
 "metadata": {
  "kernelspec": {
   "display_name": "Python 3",
   "language": "python",
   "name": "python3"
  },
  "language_info": {
   "codemirror_mode": {
    "name": "ipython",
    "version": 3
   },
   "file_extension": ".py",
   "mimetype": "text/x-python",
   "name": "python",
   "nbconvert_exporter": "python",
   "pygments_lexer": "ipython3",
   "version": "3.6.1"
  }
 },
 "nbformat": 4,
 "nbformat_minor": 1
}
